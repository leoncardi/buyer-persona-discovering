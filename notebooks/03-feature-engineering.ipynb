{
 "cells": [
  {
   "cell_type": "markdown",
   "metadata": {},
   "source": [
    "- __Stages Overview__ <br>\n",
    "[&gt; 1. IDA](01-initial-data-analysis.ipynb) [&gt; 2. EDA](02-exploratory-data-analysis.ipynb) [&gt; 3. Feature Eng.](03-feature-engineering.ipynb) [&gt; 4. Modeling & Evaluation](04-modeling-and-evaluation.ipynb)"
   ]
  }
 ],
 "metadata": {
  "language_info": {
   "name": "python"
  }
 },
 "nbformat": 4,
 "nbformat_minor": 2
}
