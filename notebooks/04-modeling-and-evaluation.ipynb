{
 "cells": [
  {
   "cell_type": "markdown",
   "metadata": {},
   "source": [
    "- __Stages Overview__ <br>\n",
    "[&gt; 1. IDA](01-initial-data-analysis.ipynb) [&gt; 2. EDA](02-exploratory-data-analysis.ipynb) [&gt; 3. Feature Eng.](03-feature-engineering.ipynb) [&gt; 4. Modeling & Evaluation](04-modeling-and-evaluation.ipynb)"
   ]
  }
 ],
 "metadata": {
  "kernelspec": {
   "display_name": "venv",
   "language": "python",
   "name": "python3"
  },
  "language_info": {
   "codemirror_mode": {
    "name": "ipython",
    "version": 3
   },
   "file_extension": ".py",
   "mimetype": "text/x-python",
   "name": "python",
   "nbconvert_exporter": "python",
   "pygments_lexer": "ipython3",
   "version": "3.12.1"
  }
 },
 "nbformat": 4,
 "nbformat_minor": 2
}
